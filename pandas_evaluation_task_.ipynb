{
  "cells": [
    {
      "cell_type": "markdown",
      "metadata": {
        "id": "tvBbbUwWuW9S"
      },
      "source": [
        "# Perform the following analysis on the provided file \"demo.csv\".\n",
        "\n",
        "\n",
        "## 1. Which month saw the highest joining of the employees\n",
        "\n",
        "   function name: max_joinings_month()\n",
        "   \n",
        "   inputs: DataFrame\n",
        "\n",
        "   outputs: str\n",
        "   \n",
        "   \n",
        "## 2. What is the mean salary is the state KS\n",
        "\n",
        "   function name: mean_ks_salary()\n",
        "   \n",
        "   inputs: DataFrame\n",
        "\n",
        "   outputs: float\n",
        "   \n",
        "   \n",
        "## 3. Which Region has highest mean salary\n",
        "\n",
        "   function name: max_mean_salary_region()\n",
        "\n",
        "   inputs: DataFrame\n",
        "\n",
        "   outputs: str\n",
        "   \n",
        "   \n",
        "## 4. Which region has lowest mean salary\n",
        "\n",
        "   function name: min_mean_salary_region()\n",
        "\n",
        "   inputs: DataFrame\n",
        "\n",
        "   outputs: str\n",
        "   \n",
        "   \n",
        "## 5. Which City has highest mean weight\n",
        "\n",
        "   function name: max_mean_weight_city()\n",
        "\n",
        "   inputs: DataFrame\n",
        "\n",
        "   outputs: str\n",
        "   \n",
        "   \n",
        "## 6. What is the difference between mean salary of Doctors and Professors\n",
        "\n",
        "   function name: dr_prof_mean_salary_diff()\n",
        "\n",
        "   inputs: DataFrame\n",
        "\n",
        "   outputs: float\n",
        "   \n",
        "   \n",
        "## 7. How many female use yahoo\n",
        "\n",
        "   function name: females_with_yahoo()\n",
        "\n",
        "   inputs: DataFrame\n",
        "\n",
        "   outputs: int\n",
        "   \n",
        "   \n",
        "## 8. How many Doctors use gmail\n",
        "\n",
        "   function name: doctors_with_gmail()\n",
        "\n",
        "   inputs: DataFrame\n",
        "\n",
        "   outputs: int\n",
        "   \n",
        "   \n",
        "## 9. What is the password of the youngest male\n",
        "\n",
        "   function name: youngest_male_password()\n",
        "\n",
        "   inputs: DataFrame\n",
        "\n",
        "   outputs: str\n"
      ]
    },
    {
      "cell_type": "code",
      "execution_count": 9,
      "metadata": {
        "id": "5Pos8WYPuW9Y"
      },
      "outputs": [],
      "source": [
        "import pandas as pd\n",
        "import calendar\n",
        "\n"
      ]
    },
    {
      "cell_type": "code",
      "source": [
        "df= pd.read_csv('/content/demo.csv')\n",
        "#print(df)\n",
        "df.head(5)"
      ],
      "metadata": {
        "id": "ZUN-RGPOvHYw",
        "colab": {
          "base_uri": "https://localhost:8080/",
          "height": 508
        },
        "outputId": "e535380f-26dc-4ab0-a52d-a946e617968c"
      },
      "execution_count": 4,
      "outputs": [
        {
          "output_type": "execute_result",
          "data": {
            "text/plain": [
              "   Emp ID Name Prefix First Name Middle Initial  Last Name Gender  \\\n",
              "0  850297         Ms.     Shawna              W       Buck      F   \n",
              "1  304721         Mr.  Nathaniel              Z      Burke      M   \n",
              "2  412317        Drs.  Elisabeth              W     Foster      F   \n",
              "3  621375        Mrs.     Briana              C  Lancaster      F   \n",
              "4  787549        Hon.    Estella              L     Potter      F   \n",
              "\n",
              "                        E Mail      Father's Name     Mother's Name  \\\n",
              "0        shawna.buck@gmail.com       Rosario Buck       Keisha Buck   \n",
              "1  nathaniel.burke@walmart.com      Derrick Burke      Phoebe Burke   \n",
              "2   elisabeth.foster@gmail.com       Irwin Foster      Janie Foster   \n",
              "3   briana.lancaster@yahoo.com  Jeffrey Lancaster  Shelby Lancaster   \n",
              "4     estella.potter@gmail.com      Booker Potter    Katelyn Potter   \n",
              "\n",
              "  Mother's Maiden Name  ...          SSN    Phone No.   Place Name  \\\n",
              "0            Hendricks  ...  222-11-7603  702-771-7149   Las Vegas   \n",
              "1                 Pugh  ...  550-99-9897  231-765-6923       Irons   \n",
              "2              Delaney  ...  215-91-0004  270-749-4774   Lexington   \n",
              "3                Weiss  ...  534-71-1053  219-623-8216     Munster   \n",
              "4                 Pate  ...  644-29-6396  907-677-8486   Fairbanks   \n",
              "\n",
              "                 County       City State    Zip   Region    User Name  \\\n",
              "0                 Clark  Las Vegas    NV  89128     West       swbuck   \n",
              "1                  Lake      Irons    MI  49644  Midwest      nzburke   \n",
              "2               Fayette  Lexington    KY  40501    South     ewfoster   \n",
              "3                  Lake    Munster    IN  46321  Midwest  bclancaster   \n",
              "4  Fairbanks North Star  Fairbanks    AK  99709     West     elpotter   \n",
              "\n",
              "          Password  \n",
              "0  ja8?k3BTF^]o@<&  \n",
              "1   tPA@4Wh9Ja$+Ln  \n",
              "2  5D.B4IGNkWJfG<~  \n",
              "3        I%?JDM;pW  \n",
              "4      j4jkEXfC&Rh  \n",
              "\n",
              "[5 rows x 37 columns]"
            ],
            "text/html": [
              "\n",
              "\n",
              "  <div id=\"df-c7d5deaf-5284-477b-bb22-f873fe80dcf7\">\n",
              "    <div class=\"colab-df-container\">\n",
              "      <div>\n",
              "<style scoped>\n",
              "    .dataframe tbody tr th:only-of-type {\n",
              "        vertical-align: middle;\n",
              "    }\n",
              "\n",
              "    .dataframe tbody tr th {\n",
              "        vertical-align: top;\n",
              "    }\n",
              "\n",
              "    .dataframe thead th {\n",
              "        text-align: right;\n",
              "    }\n",
              "</style>\n",
              "<table border=\"1\" class=\"dataframe\">\n",
              "  <thead>\n",
              "    <tr style=\"text-align: right;\">\n",
              "      <th></th>\n",
              "      <th>Emp ID</th>\n",
              "      <th>Name Prefix</th>\n",
              "      <th>First Name</th>\n",
              "      <th>Middle Initial</th>\n",
              "      <th>Last Name</th>\n",
              "      <th>Gender</th>\n",
              "      <th>E Mail</th>\n",
              "      <th>Father's Name</th>\n",
              "      <th>Mother's Name</th>\n",
              "      <th>Mother's Maiden Name</th>\n",
              "      <th>...</th>\n",
              "      <th>SSN</th>\n",
              "      <th>Phone No.</th>\n",
              "      <th>Place Name</th>\n",
              "      <th>County</th>\n",
              "      <th>City</th>\n",
              "      <th>State</th>\n",
              "      <th>Zip</th>\n",
              "      <th>Region</th>\n",
              "      <th>User Name</th>\n",
              "      <th>Password</th>\n",
              "    </tr>\n",
              "  </thead>\n",
              "  <tbody>\n",
              "    <tr>\n",
              "      <th>0</th>\n",
              "      <td>850297</td>\n",
              "      <td>Ms.</td>\n",
              "      <td>Shawna</td>\n",
              "      <td>W</td>\n",
              "      <td>Buck</td>\n",
              "      <td>F</td>\n",
              "      <td>shawna.buck@gmail.com</td>\n",
              "      <td>Rosario Buck</td>\n",
              "      <td>Keisha Buck</td>\n",
              "      <td>Hendricks</td>\n",
              "      <td>...</td>\n",
              "      <td>222-11-7603</td>\n",
              "      <td>702-771-7149</td>\n",
              "      <td>Las Vegas</td>\n",
              "      <td>Clark</td>\n",
              "      <td>Las Vegas</td>\n",
              "      <td>NV</td>\n",
              "      <td>89128</td>\n",
              "      <td>West</td>\n",
              "      <td>swbuck</td>\n",
              "      <td>ja8?k3BTF^]o@&lt;&amp;</td>\n",
              "    </tr>\n",
              "    <tr>\n",
              "      <th>1</th>\n",
              "      <td>304721</td>\n",
              "      <td>Mr.</td>\n",
              "      <td>Nathaniel</td>\n",
              "      <td>Z</td>\n",
              "      <td>Burke</td>\n",
              "      <td>M</td>\n",
              "      <td>nathaniel.burke@walmart.com</td>\n",
              "      <td>Derrick Burke</td>\n",
              "      <td>Phoebe Burke</td>\n",
              "      <td>Pugh</td>\n",
              "      <td>...</td>\n",
              "      <td>550-99-9897</td>\n",
              "      <td>231-765-6923</td>\n",
              "      <td>Irons</td>\n",
              "      <td>Lake</td>\n",
              "      <td>Irons</td>\n",
              "      <td>MI</td>\n",
              "      <td>49644</td>\n",
              "      <td>Midwest</td>\n",
              "      <td>nzburke</td>\n",
              "      <td>tPA@4Wh9Ja$+Ln</td>\n",
              "    </tr>\n",
              "    <tr>\n",
              "      <th>2</th>\n",
              "      <td>412317</td>\n",
              "      <td>Drs.</td>\n",
              "      <td>Elisabeth</td>\n",
              "      <td>W</td>\n",
              "      <td>Foster</td>\n",
              "      <td>F</td>\n",
              "      <td>elisabeth.foster@gmail.com</td>\n",
              "      <td>Irwin Foster</td>\n",
              "      <td>Janie Foster</td>\n",
              "      <td>Delaney</td>\n",
              "      <td>...</td>\n",
              "      <td>215-91-0004</td>\n",
              "      <td>270-749-4774</td>\n",
              "      <td>Lexington</td>\n",
              "      <td>Fayette</td>\n",
              "      <td>Lexington</td>\n",
              "      <td>KY</td>\n",
              "      <td>40501</td>\n",
              "      <td>South</td>\n",
              "      <td>ewfoster</td>\n",
              "      <td>5D.B4IGNkWJfG&lt;~</td>\n",
              "    </tr>\n",
              "    <tr>\n",
              "      <th>3</th>\n",
              "      <td>621375</td>\n",
              "      <td>Mrs.</td>\n",
              "      <td>Briana</td>\n",
              "      <td>C</td>\n",
              "      <td>Lancaster</td>\n",
              "      <td>F</td>\n",
              "      <td>briana.lancaster@yahoo.com</td>\n",
              "      <td>Jeffrey Lancaster</td>\n",
              "      <td>Shelby Lancaster</td>\n",
              "      <td>Weiss</td>\n",
              "      <td>...</td>\n",
              "      <td>534-71-1053</td>\n",
              "      <td>219-623-8216</td>\n",
              "      <td>Munster</td>\n",
              "      <td>Lake</td>\n",
              "      <td>Munster</td>\n",
              "      <td>IN</td>\n",
              "      <td>46321</td>\n",
              "      <td>Midwest</td>\n",
              "      <td>bclancaster</td>\n",
              "      <td>I%?JDM;pW</td>\n",
              "    </tr>\n",
              "    <tr>\n",
              "      <th>4</th>\n",
              "      <td>787549</td>\n",
              "      <td>Hon.</td>\n",
              "      <td>Estella</td>\n",
              "      <td>L</td>\n",
              "      <td>Potter</td>\n",
              "      <td>F</td>\n",
              "      <td>estella.potter@gmail.com</td>\n",
              "      <td>Booker Potter</td>\n",
              "      <td>Katelyn Potter</td>\n",
              "      <td>Pate</td>\n",
              "      <td>...</td>\n",
              "      <td>644-29-6396</td>\n",
              "      <td>907-677-8486</td>\n",
              "      <td>Fairbanks</td>\n",
              "      <td>Fairbanks North Star</td>\n",
              "      <td>Fairbanks</td>\n",
              "      <td>AK</td>\n",
              "      <td>99709</td>\n",
              "      <td>West</td>\n",
              "      <td>elpotter</td>\n",
              "      <td>j4jkEXfC&amp;Rh</td>\n",
              "    </tr>\n",
              "  </tbody>\n",
              "</table>\n",
              "<p>5 rows × 37 columns</p>\n",
              "</div>\n",
              "      <button class=\"colab-df-convert\" onclick=\"convertToInteractive('df-c7d5deaf-5284-477b-bb22-f873fe80dcf7')\"\n",
              "              title=\"Convert this dataframe to an interactive table.\"\n",
              "              style=\"display:none;\">\n",
              "\n",
              "  <svg xmlns=\"http://www.w3.org/2000/svg\" height=\"24px\"viewBox=\"0 0 24 24\"\n",
              "       width=\"24px\">\n",
              "    <path d=\"M0 0h24v24H0V0z\" fill=\"none\"/>\n",
              "    <path d=\"M18.56 5.44l.94 2.06.94-2.06 2.06-.94-2.06-.94-.94-2.06-.94 2.06-2.06.94zm-11 1L8.5 8.5l.94-2.06 2.06-.94-2.06-.94L8.5 2.5l-.94 2.06-2.06.94zm10 10l.94 2.06.94-2.06 2.06-.94-2.06-.94-.94-2.06-.94 2.06-2.06.94z\"/><path d=\"M17.41 7.96l-1.37-1.37c-.4-.4-.92-.59-1.43-.59-.52 0-1.04.2-1.43.59L10.3 9.45l-7.72 7.72c-.78.78-.78 2.05 0 2.83L4 21.41c.39.39.9.59 1.41.59.51 0 1.02-.2 1.41-.59l7.78-7.78 2.81-2.81c.8-.78.8-2.07 0-2.86zM5.41 20L4 18.59l7.72-7.72 1.47 1.35L5.41 20z\"/>\n",
              "  </svg>\n",
              "      </button>\n",
              "\n",
              "\n",
              "\n",
              "    <div id=\"df-af43521a-b177-4051-996b-737b97b20adc\">\n",
              "      <button class=\"colab-df-quickchart\" onclick=\"quickchart('df-af43521a-b177-4051-996b-737b97b20adc')\"\n",
              "              title=\"Suggest charts.\"\n",
              "              style=\"display:none;\">\n",
              "\n",
              "<svg xmlns=\"http://www.w3.org/2000/svg\" height=\"24px\"viewBox=\"0 0 24 24\"\n",
              "     width=\"24px\">\n",
              "    <g>\n",
              "        <path d=\"M19 3H5c-1.1 0-2 .9-2 2v14c0 1.1.9 2 2 2h14c1.1 0 2-.9 2-2V5c0-1.1-.9-2-2-2zM9 17H7v-7h2v7zm4 0h-2V7h2v10zm4 0h-2v-4h2v4z\"/>\n",
              "    </g>\n",
              "</svg>\n",
              "      </button>\n",
              "    </div>\n",
              "\n",
              "<style>\n",
              "  .colab-df-quickchart {\n",
              "    background-color: #E8F0FE;\n",
              "    border: none;\n",
              "    border-radius: 50%;\n",
              "    cursor: pointer;\n",
              "    display: none;\n",
              "    fill: #1967D2;\n",
              "    height: 32px;\n",
              "    padding: 0 0 0 0;\n",
              "    width: 32px;\n",
              "  }\n",
              "\n",
              "  .colab-df-quickchart:hover {\n",
              "    background-color: #E2EBFA;\n",
              "    box-shadow: 0px 1px 2px rgba(60, 64, 67, 0.3), 0px 1px 3px 1px rgba(60, 64, 67, 0.15);\n",
              "    fill: #174EA6;\n",
              "  }\n",
              "\n",
              "  [theme=dark] .colab-df-quickchart {\n",
              "    background-color: #3B4455;\n",
              "    fill: #D2E3FC;\n",
              "  }\n",
              "\n",
              "  [theme=dark] .colab-df-quickchart:hover {\n",
              "    background-color: #434B5C;\n",
              "    box-shadow: 0px 1px 3px 1px rgba(0, 0, 0, 0.15);\n",
              "    filter: drop-shadow(0px 1px 2px rgba(0, 0, 0, 0.3));\n",
              "    fill: #FFFFFF;\n",
              "  }\n",
              "</style>\n",
              "\n",
              "    <script>\n",
              "      async function quickchart(key) {\n",
              "        const containerElement = document.querySelector('#' + key);\n",
              "        const charts = await google.colab.kernel.invokeFunction(\n",
              "            'suggestCharts', [key], {});\n",
              "      }\n",
              "    </script>\n",
              "\n",
              "      <script>\n",
              "\n",
              "function displayQuickchartButton(domScope) {\n",
              "  let quickchartButtonEl =\n",
              "    domScope.querySelector('#df-af43521a-b177-4051-996b-737b97b20adc button.colab-df-quickchart');\n",
              "  quickchartButtonEl.style.display =\n",
              "    google.colab.kernel.accessAllowed ? 'block' : 'none';\n",
              "}\n",
              "\n",
              "        displayQuickchartButton(document);\n",
              "      </script>\n",
              "      <style>\n",
              "    .colab-df-container {\n",
              "      display:flex;\n",
              "      flex-wrap:wrap;\n",
              "      gap: 12px;\n",
              "    }\n",
              "\n",
              "    .colab-df-convert {\n",
              "      background-color: #E8F0FE;\n",
              "      border: none;\n",
              "      border-radius: 50%;\n",
              "      cursor: pointer;\n",
              "      display: none;\n",
              "      fill: #1967D2;\n",
              "      height: 32px;\n",
              "      padding: 0 0 0 0;\n",
              "      width: 32px;\n",
              "    }\n",
              "\n",
              "    .colab-df-convert:hover {\n",
              "      background-color: #E2EBFA;\n",
              "      box-shadow: 0px 1px 2px rgba(60, 64, 67, 0.3), 0px 1px 3px 1px rgba(60, 64, 67, 0.15);\n",
              "      fill: #174EA6;\n",
              "    }\n",
              "\n",
              "    [theme=dark] .colab-df-convert {\n",
              "      background-color: #3B4455;\n",
              "      fill: #D2E3FC;\n",
              "    }\n",
              "\n",
              "    [theme=dark] .colab-df-convert:hover {\n",
              "      background-color: #434B5C;\n",
              "      box-shadow: 0px 1px 3px 1px rgba(0, 0, 0, 0.15);\n",
              "      filter: drop-shadow(0px 1px 2px rgba(0, 0, 0, 0.3));\n",
              "      fill: #FFFFFF;\n",
              "    }\n",
              "  </style>\n",
              "\n",
              "      <script>\n",
              "        const buttonEl =\n",
              "          document.querySelector('#df-c7d5deaf-5284-477b-bb22-f873fe80dcf7 button.colab-df-convert');\n",
              "        buttonEl.style.display =\n",
              "          google.colab.kernel.accessAllowed ? 'block' : 'none';\n",
              "\n",
              "        async function convertToInteractive(key) {\n",
              "          const element = document.querySelector('#df-c7d5deaf-5284-477b-bb22-f873fe80dcf7');\n",
              "          const dataTable =\n",
              "            await google.colab.kernel.invokeFunction('convertToInteractive',\n",
              "                                                     [key], {});\n",
              "          if (!dataTable) return;\n",
              "\n",
              "          const docLinkHtml = 'Like what you see? Visit the ' +\n",
              "            '<a target=\"_blank\" href=https://colab.research.google.com/notebooks/data_table.ipynb>data table notebook</a>'\n",
              "            + ' to learn more about interactive tables.';\n",
              "          element.innerHTML = '';\n",
              "          dataTable['output_type'] = 'display_data';\n",
              "          await google.colab.output.renderOutput(dataTable, element);\n",
              "          const docLink = document.createElement('div');\n",
              "          docLink.innerHTML = docLinkHtml;\n",
              "          element.appendChild(docLink);\n",
              "        }\n",
              "      </script>\n",
              "    </div>\n",
              "  </div>\n"
            ]
          },
          "metadata": {},
          "execution_count": 4
        }
      ]
    },
    {
      "cell_type": "code",
      "source": [
        "print(df['Month of Joining'])"
      ],
      "metadata": {
        "colab": {
          "base_uri": "https://localhost:8080/"
        },
        "id": "yu_QTY-qoSzx",
        "outputId": "3e9c2818-27ed-4815-fe29-a529c1e9b8a9"
      },
      "execution_count": 5,
      "outputs": [
        {
          "output_type": "stream",
          "name": "stdout",
          "text": [
            "0      12\n",
            "1       4\n",
            "2       3\n",
            "3       2\n",
            "4      10\n",
            "       ..\n",
            "995     1\n",
            "996     3\n",
            "997     2\n",
            "998     3\n",
            "999     1\n",
            "Name: Month of Joining, Length: 1000, dtype: int64\n"
          ]
        }
      ]
    },
    {
      "cell_type": "markdown",
      "metadata": {
        "id": "n_fTzTbPuW9a"
      },
      "source": [
        "## 1. Which month saw the highest joining of the employees\n",
        "\n",
        "   function name: max_joinings_month()\n",
        "   \n",
        "   inputs: DataFrame\n",
        "\n",
        "   outputs: str"
      ]
    },
    {
      "cell_type": "code",
      "execution_count": 39,
      "metadata": {
        "id": "Ol33tFG-uW9a",
        "colab": {
          "base_uri": "https://localhost:8080/"
        },
        "outputId": "c1004a43-2a07-4c3d-a3fb-23db306796dd"
      },
      "outputs": [
        {
          "output_type": "stream",
          "name": "stdout",
          "text": [
            "Month of Joining: April\n"
          ]
        }
      ],
      "source": [
        "def max_joinings_month(df):\n",
        "    joining = df.groupby(\"Month of Joining\").count().reset_index()\n",
        "    result = joining.sort_values(by=\"Emp ID\", ascending=False)\n",
        "    max_month_number = result[\"Month of Joining\"].iloc[0]\n",
        "    max_month_name = calendar.month_name[max_month_number]\n",
        "    return max_month_name\n",
        "\n",
        "print(\"Month of Joining:\", max_joinings_month(df))"
      ]
    },
    {
      "cell_type": "markdown",
      "metadata": {
        "id": "rVE_BdqIuW9b"
      },
      "source": [
        "## 2. What is the mean salary is the state KS\n",
        "\n",
        "   function name: mean_ks_salary()\n",
        "   \n",
        "   inputs: DataFrame\n",
        "\n",
        "   outputs: float"
      ]
    },
    {
      "cell_type": "code",
      "execution_count": 47,
      "metadata": {
        "id": "UpoU-UakuW9b",
        "colab": {
          "base_uri": "https://localhost:8080/"
        },
        "outputId": "c527b7a2-f66f-46e6-d709-4e791db01026"
      },
      "outputs": [
        {
          "output_type": "stream",
          "name": "stdout",
          "text": [
            "104225.45454545454\n"
          ]
        }
      ],
      "source": [
        "def mean_ks_salary(df):\n",
        "    # your code here\n",
        "    mean = df[df[\"State\"] == \"KS\"][\"Salary\"].mean()\n",
        "    return mean\n",
        "\n",
        "result = mean_ks_salary(df)\n",
        "print(result)"
      ]
    },
    {
      "cell_type": "markdown",
      "metadata": {
        "id": "Vgd5Fb5CuW9c"
      },
      "source": [
        "## 3. Which Region has highest mean salary\n",
        "\n",
        "   function name: max_mean_salary_region()\n",
        "\n",
        "   inputs: DataFrame\n",
        "\n",
        "   outputs: str"
      ]
    },
    {
      "cell_type": "code",
      "execution_count": 48,
      "metadata": {
        "id": "7HOPwotyuW9c",
        "colab": {
          "base_uri": "https://localhost:8080/"
        },
        "outputId": "46559413-cddc-4568-f9e3-83300f7397d2"
      },
      "outputs": [
        {
          "output_type": "stream",
          "name": "stdout",
          "text": [
            "Midwest\n"
          ]
        }
      ],
      "source": [
        "def max_mean_salary_region(df):\n",
        "  mean= df.groupby(\"Region\")[\"Salary\"].mean().reset_index()\n",
        "  highest= mean[\"Region\"][0]\n",
        "  return highest\n",
        "\n",
        "result = max_mean_salary_region(df)\n",
        "print(result)"
      ]
    },
    {
      "cell_type": "markdown",
      "metadata": {
        "id": "wawx6nHmuW9d"
      },
      "source": [
        "## 4. Which region has lowest mean salary\n",
        "\n",
        "   function name: min_mean_salary_region()\n",
        "\n",
        "   inputs: DataFrame\n",
        "\n",
        "   outputs: str"
      ]
    },
    {
      "cell_type": "code",
      "execution_count": 49,
      "metadata": {
        "id": "dH61IHpFuW9d",
        "colab": {
          "base_uri": "https://localhost:8080/"
        },
        "outputId": "157f8129-3e12-49d0-e856-01bc30139df5"
      },
      "outputs": [
        {
          "output_type": "stream",
          "name": "stdout",
          "text": [
            "West\n"
          ]
        }
      ],
      "source": [
        "def min_mean_salary_region(df):\n",
        "  mean= df.groupby(\"Region\")[\"Salary\"].mean().reset_index()\n",
        "  highest= mean[\"Region\"][len( mean)-1]\n",
        "  return highest\n",
        "\n",
        "result =  min_mean_salary_region(df)\n",
        "print(result)"
      ]
    },
    {
      "cell_type": "markdown",
      "metadata": {
        "id": "MSpzMJpPuW9d"
      },
      "source": [
        "## 5. Which City has highest mean weight\n",
        "\n",
        "   function name: max_mean_weight_city()\n",
        "\n",
        "   inputs: DataFrame\n",
        "\n",
        "   outputs: str"
      ]
    },
    {
      "cell_type": "code",
      "execution_count": 51,
      "metadata": {
        "id": "m2gP7FpMuW9e",
        "colab": {
          "base_uri": "https://localhost:8080/"
        },
        "outputId": "973d1684-b209-47d6-d858-d8eb16204cc3"
      },
      "outputs": [
        {
          "output_type": "stream",
          "name": "stdout",
          "text": [
            "Conroe\n"
          ]
        }
      ],
      "source": [
        "def max_mean_weight_city(df):\n",
        "    mean_weight_by_city = df.groupby(\"City\")[\"Weight in Kgs.\"].mean().reset_index()\n",
        "    max_mean_weight_city = mean_weight_by_city.loc[mean_weight_by_city[\"Weight in Kgs.\"].idxmax(), \"City\"]\n",
        "    return max_mean_weight_city\n",
        "\n",
        "result = max_mean_weight_city(df)\n",
        "print(result)\n",
        "\n",
        ""
      ]
    },
    {
      "cell_type": "markdown",
      "metadata": {
        "id": "amq4sSZ5uW9e"
      },
      "source": [
        "## 6. What is the difference between mean salary of Doctors and Professors\n",
        "\n",
        "   function name: dr_prof_mean_salary_diff()\n",
        "\n",
        "   inputs: DataFrame\n",
        "\n",
        "   outputs: float"
      ]
    },
    {
      "cell_type": "code",
      "execution_count": 44,
      "metadata": {
        "id": "nXuEdsLBuW9f",
        "colab": {
          "base_uri": "https://localhost:8080/"
        },
        "outputId": "f1bb7b18-6745-4374-fa04-815bf2aa1735"
      },
      "outputs": [
        {
          "output_type": "stream",
          "name": "stdout",
          "text": [
            "2635.981785063763\n"
          ]
        }
      ],
      "source": [
        "def dr_prof_mean_salary_diff(df):\n",
        "    # Filter rows for doctors and professors separately\n",
        "    doctors_df = df[df[\"Name Prefix\"].isin([\"Dr.\", \"Drs.\"])]\n",
        "    professors_df = df[df[\"Name Prefix\"] == \"Prof.\"]\n",
        "    # Calculate the mean salary for doctors and professors\n",
        "    mean_doctors = doctors_df[\"Salary\"].mean()\n",
        "    mean_professors = professors_df[\"Salary\"].mean()\n",
        "    difference = mean_professors- mean_doctors\n",
        "    return difference\n",
        "\n",
        "\n",
        "result = dr_prof_mean_salary_diff(df)\n",
        "print(result)\n"
      ]
    },
    {
      "cell_type": "markdown",
      "metadata": {
        "id": "WCgvbyRHuW9f"
      },
      "source": [
        "## 7. How many female use yahoo\n",
        "\n",
        "   function name: females_with_yahoo()\n",
        "\n",
        "   inputs: DataFrame\n",
        "\n",
        "   outputs: int"
      ]
    },
    {
      "cell_type": "code",
      "execution_count": 46,
      "metadata": {
        "id": "z17LU2IVuW9f",
        "colab": {
          "base_uri": "https://localhost:8080/"
        },
        "outputId": "c144cecd-45ad-472f-e042-9cb2e18a7453"
      },
      "outputs": [
        {
          "output_type": "stream",
          "name": "stdout",
          "text": [
            "69\n"
          ]
        }
      ],
      "source": [
        "def females_with_yahoo(df):\n",
        "    female_yahoo = df[(df[\"Gender\"] == \"F\") & (df[\"E Mail\"].str.strip().str.contains(\"yahoo\"))]\n",
        "    return len(female_yahoo)\n",
        "\n",
        "\n",
        "result = females_with_yahoo(df)\n",
        "print(result)\n"
      ]
    },
    {
      "cell_type": "markdown",
      "metadata": {
        "id": "LRx_pxOPuW9g"
      },
      "source": [
        "## 8. How many Doctors use gmail\n",
        "\n",
        "   function name: doctors_with_gmail()\n",
        "\n",
        "   inputs: DataFrame\n",
        "\n",
        "   outputs: int"
      ]
    },
    {
      "cell_type": "code",
      "execution_count": 35,
      "metadata": {
        "id": "58Qmeg9nuW9g",
        "colab": {
          "base_uri": "https://localhost:8080/"
        },
        "outputId": "7fa28ff7-0e0f-442c-fab6-c6148346f29f"
      },
      "outputs": [
        {
          "output_type": "stream",
          "name": "stdout",
          "text": [
            "156\n"
          ]
        }
      ],
      "source": [
        "def doctors_with_gmail(df):\n",
        "    female_yahoo = df[(df[\"Gender\"] == \"M\") & (df[\"E Mail\"].str.strip().str.endswith(\"@gmail.com\"))]\n",
        "    return len(female_yahoo)\n",
        "result = doctors_with_gmail(df)\n",
        "print(result)\n"
      ]
    },
    {
      "cell_type": "markdown",
      "metadata": {
        "id": "wAMZIWg5uW9h"
      },
      "source": [
        "## 9. What is the password of the youngest male\n",
        "\n",
        "   function name: youngest_male_password()\n",
        "\n",
        "   inputs: DataFrame\n",
        "\n",
        "   outputs: str"
      ]
    },
    {
      "cell_type": "code",
      "execution_count": 38,
      "metadata": {
        "id": "LMs7ZxjRuW9h",
        "colab": {
          "base_uri": "https://localhost:8080/"
        },
        "outputId": "e9e44b7b-e3fd-45a3-ec10-d6d986388f4a"
      },
      "outputs": [
        {
          "output_type": "stream",
          "name": "stdout",
          "text": [
            "xPr\\aGPTQ#v\n"
          ]
        }
      ],
      "source": [
        "def youngest_male_password(df):\n",
        "    males_df = df[df[\"Gender\"] == \"M\"]\n",
        "\n",
        "    # Find the index of the youngest male\n",
        "    youngest_male_idx = males_df[\"Age in Yrs.\"].idxmin()\n",
        "\n",
        "    # Get the password of the youngest male\n",
        "    password_youngest_male = df.loc[youngest_male_idx, \"Password\"]\n",
        "    return password_youngest_male\n",
        "\n",
        "result = youngest_male_password(df)\n",
        "print(result)"
      ]
    },
    {
      "cell_type": "code",
      "source": [],
      "metadata": {
        "id": "_z4L8Q9d1a4y"
      },
      "execution_count": null,
      "outputs": []
    }
  ],
  "metadata": {
    "kernelspec": {
      "display_name": "unet_ml11",
      "language": "python",
      "name": "unet_ml11"
    },
    "language_info": {
      "codemirror_mode": {
        "name": "ipython",
        "version": 3
      },
      "file_extension": ".py",
      "mimetype": "text/x-python",
      "name": "python",
      "nbconvert_exporter": "python",
      "pygments_lexer": "ipython3",
      "version": "3.6.9"
    },
    "colab": {
      "provenance": []
    }
  },
  "nbformat": 4,
  "nbformat_minor": 0
}